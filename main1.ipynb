{
 "cells": [
  {
   "cell_type": "markdown",
   "metadata": {},
   "source": [
    "Week 1 : Data Analysis and Cleaning\n",
    "Week 2 : Feature Engineering and Basic Modeling\n",
    "Week 3 : Advance Modeling\n",
    "Week 4 : Deployment"
   ]
  },
  {
   "cell_type": "markdown",
   "metadata": {},
   "source": [
    "Week 1 : Day 1 -> Choose a dataset from online sources like kaggle\n",
    "                Dataset choosen : https://www.kaggle.com/datasets/rahulchavan99/marketing-campaign-dataset"
   ]
  },
  {
   "cell_type": "markdown",
   "metadata": {},
   "source": [
    "Week 1 : Day 2 -> Explore the Dataset and compute basic statistics"
   ]
  },
  {
   "cell_type": "code",
   "execution_count": 1,
   "metadata": {},
   "outputs": [],
   "source": [
    "# Importing all necessary libraries\n",
    "import pandas as pd\n",
    "import IPython.display as display\n",
    "import seaborn as sns\n",
    "import warnings\n",
    "warnings.filterwarnings('ignore')\n",
    "import matplotlib.pyplot as plt\n",
    "from sklearn.model_selection import train_test_split\n",
    "from sklearn.linear_model import LogisticRegression\n",
    "from sklearn.metrics import accuracy_score, roc_auc_score, log_loss\n",
    "from sklearn.preprocessing import StandardScaler, OneHotEncoder\n",
    "from sklearn.impute import SimpleImputer\n",
    "from sklearn.compose import ColumnTransformer\n",
    "from sklearn.pipeline import Pipeline"
   ]
  },
  {
   "cell_type": "code",
   "execution_count": 2,
   "metadata": {},
   "outputs": [],
   "source": [
    "# Displaying Maximum rows and columns\n",
    "# Display all columns of the dataframe\n",
    "pd.options.display.max_columns=None\n",
    "\n",
    "# Display all rows of the dataframe\n",
    "pd.options.display.max_rows=None\n",
    "\n",
    "# Set the plot size\n",
    "plt.rcParams['figure.figsize']=[12,8]"
   ]
  },
  {
   "cell_type": "code",
   "execution_count": null,
   "metadata": {},
   "outputs": [],
   "source": [
    "# Read the Dataset from the specified file path\n",
    "df=pd.read_csv('Marketing campaign dataset.csv')\n",
    "df.head()"
   ]
  },
  {
   "cell_type": "code",
   "execution_count": null,
   "metadata": {},
   "outputs": [],
   "source": [
    "df.columns"
   ]
  },
  {
   "cell_type": "code",
   "execution_count": null,
   "metadata": {},
   "outputs": [],
   "source": [
    "# Number of rows and columns\n",
    "df.shape"
   ]
  },
  {
   "cell_type": "code",
   "execution_count": null,
   "metadata": {},
   "outputs": [],
   "source": [
    "# Type for each column in dataset\n",
    "df.info()"
   ]
  },
  {
   "cell_type": "code",
   "execution_count": null,
   "metadata": {},
   "outputs": [],
   "source": [
    "# Summary Statistics(mean,median,std,min,max)\n",
    "df.describe()\n"
   ]
  },
  {
   "cell_type": "markdown",
   "metadata": {},
   "source": [
    "Week 1 : Day 3 -> Perform EDA with visualizations to analyze patterns."
   ]
  },
  {
   "cell_type": "code",
   "execution_count": 8,
   "metadata": {},
   "outputs": [],
   "source": [
    "# CTR\n",
    "df['CTR']=(df['clicks']/df['impressions'])*100"
   ]
  },
  {
   "cell_type": "code",
   "execution_count": 9,
   "metadata": {},
   "outputs": [],
   "source": [
    "# Convert 'time' column to datetime\n",
    "df['time'] = pd.to_datetime(df['time'],format='%d-%m-%Y',errors='coerce')"
   ]
  },
  {
   "cell_type": "code",
   "execution_count": null,
   "metadata": {},
   "outputs": [],
   "source": [
    "# Visualizing the CTR VS Time Duration\n",
    "\n",
    "plt.figure(figsize=(10, 6))\n",
    "sns.lineplot(x='time', y='CTR', data=df, color='#FF6361')\n",
    "plt.title('CTR over Time (Full Duration)')\n",
    "plt.xlabel('Time')\n",
    "plt.ylabel('CTR')\n",
    "plt.xticks(rotation=45)\n",
    "\n",
    "# CTR over last 7 days\n",
    "last_7_days = pd.to_datetime(df['time'].max()) - pd.DateOffset(days=7)\n",
    "df_last_7_days = df[df['time'] >= last_7_days]\n",
    "\n",
    "plt.figure(figsize=(10, 6))\n",
    "sns.lineplot(x='time', y='CTR', data=df_last_7_days, color='#58508D')\n",
    "plt.title('CTR over Time (Last 7 Days)')\n",
    "plt.xlabel('Time')\n",
    "plt.ylabel('CTR')\n",
    "plt.xticks(rotation=45)\n",
    "\n",
    "plt.show()"
   ]
  },
  {
   "cell_type": "code",
   "execution_count": null,
   "metadata": {},
   "outputs": [],
   "source": [
    "# Scatter plot to visualize relationship between impressions and clicks\n",
    "plt.figure(figsize=(10, 6))\n",
    "sns.scatterplot(x='impressions', y='clicks', data=df, color='green')\n",
    "plt.title('Impressions vs Clicks')\n",
    "plt.xlabel('Impressions')\n",
    "plt.ylabel('Clicks')\n",
    "plt.show()\n",
    "\n",
    "# Correlation between impressions and clicks\n",
    "correlation = df[['impressions', 'clicks']].corr()\n",
    "print(correlation)\n"
   ]
  },
  {
   "cell_type": "code",
   "execution_count": null,
   "metadata": {},
   "outputs": [],
   "source": [
    "# Boxplot to show CTR distribution across different budget ranges\n",
    "plt.figure(figsize=(10, 6))\n",
    "sns.boxplot(x='campaign_budget_usd', y='CTR', data=df)\n",
    "plt.title('CTR vs Campaign Budget (USD)')\n",
    "plt.xlabel('Campaign Budget (USD)')\n",
    "plt.ylabel('CTR')\n",
    "plt.show()\n"
   ]
  },
  {
   "cell_type": "code",
   "execution_count": null,
   "metadata": {},
   "outputs": [],
   "source": [
    "# Boxplot of CTR across different advertisers\n",
    "plt.figure(figsize=(12, 6))\n",
    "sns.boxplot(x='advertiser_name', y='CTR', data=df)\n",
    "plt.title('CTR Distribution by Advertiser')\n",
    "plt.xlabel('Advertiser')\n",
    "plt.ylabel('CTR')\n",
    "plt.xticks(rotation=90)\n",
    "plt.show()\n"
   ]
  },
  {
   "cell_type": "code",
   "execution_count": null,
   "metadata": {},
   "outputs": [],
   "source": [
    "# Calculate correlation matrix\n",
    "corr_matrix = df[['CTR', 'impressions', 'clicks', 'campaign_budget_usd', 'media_cost_usd']].corr()\n",
    "\n",
    "# Plot heatmap\n",
    "plt.figure(figsize=(8, 6))\n",
    "sns.heatmap(corr_matrix, annot=True, cmap='coolwarm', fmt='.2f', linewidths=0.5)\n",
    "plt.title('Correlation Matrix')\n",
    "plt.show()\n"
   ]
  },
  {
   "cell_type": "code",
   "execution_count": null,
   "metadata": {},
   "outputs": [],
   "source": [
    "# Boxplot to detect outliers in CTR\n",
    "plt.figure(figsize=(10, 6))\n",
    "sns.boxplot(x='CTR', data=df)\n",
    "plt.title('Boxplot for CTR to Detect Outliers')\n",
    "plt.show()\n"
   ]
  },
  {
   "cell_type": "markdown",
   "metadata": {},
   "source": [
    "Week 1 : Day 4 -> Handle missing values and address outliers"
   ]
  },
  {
   "cell_type": "code",
   "execution_count": null,
   "metadata": {},
   "outputs": [],
   "source": [
    "# Identifying Missing Values : Checking for missing values in each column\n",
    "total_missing=df.isnull().sum()\n",
    "# Calculate the percentage of missing values for each variable\n",
    "percent_missing=(total_missing*100)/df.isnull().count()\n",
    "# Round off\n",
    "percent_missing=percent_missing.round(decimals=0)\n",
    "\n",
    "# Create a dataframe for all missing values\n",
    "missing_data=pd.DataFrame({'Total':total_missing,\n",
    "                           'Percentage':percent_missing,\n",
    "                           'Type':df.dtypes})\n",
    "\n",
    "# Sort the Dataframe based on the total count of missing values in descending order\n",
    "missing_data=missing_data.sort_values(by='Total',ascending=False)\n",
    "\n",
    "missing_data"
   ]
  },
  {
   "cell_type": "code",
   "execution_count": null,
   "metadata": {},
   "outputs": [],
   "source": [
    "# filling missing values with 0 for following columns \n",
    "\n",
    "df['creative_width'].fillna(0, inplace=True)\n",
    "df['creative_height'].fillna(0, inplace=True)\n",
    "df['template_id'].fillna(0, inplace=True)\n",
    "df['approved_budget'].fillna(0, inplace=True)\n",
    "\n",
    "# dropping where more than 80% values are missing\n",
    "df.drop(columns=['position_in_content','unique_reach','total_reach','max_bid_cpm'],inplace=True)\n",
    "\n",
    "df.describe()"
   ]
  },
  {
   "cell_type": "markdown",
   "metadata": {},
   "source": [
    "Week 1 : Day 5 -> Clean the Dataset and prepare for feature engineering"
   ]
  },
  {
   "cell_type": "code",
   "execution_count": null,
   "metadata": {},
   "outputs": [],
   "source": [
    "# Check for any duplicates\n",
    "duplicates = df.duplicated().sum()\n",
    "print(f\"Number of duplicate rows: {duplicates}\")"
   ]
  },
  {
   "cell_type": "code",
   "execution_count": 19,
   "metadata": {},
   "outputs": [],
   "source": [
    "# Convert columns to appropriate data types\n",
    "df['CTR'] = pd.to_numeric(df['CTR'], errors='coerce')\n",
    "df['campaign_budget_usd'] = pd.to_numeric(df['campaign_budget_usd'], errors='coerce')\n",
    "\n",
    "# Convert time-based columns to datetime format\n",
    "df['time'] = pd.to_datetime(df['time'],format='%d-%m-%Y',errors='coerce')  # If 'time' is present and in string format\n"
   ]
  },
  {
   "cell_type": "markdown",
   "metadata": {},
   "source": [
    "Week 2 : Day 1 -> Encode Catrgorical Features(eg - one hot encoding)"
   ]
  },
  {
   "cell_type": "markdown",
   "metadata": {},
   "source": [
    "Categorical variables should be properly encoded for machine learning. You can either use label encoding or one-hot encoding depending on the model you plan to use."
   ]
  },
  {
   "cell_type": "code",
   "execution_count": null,
   "metadata": {},
   "outputs": [],
   "source": [
    "# One-Hot Encoding for the 'advertiser_name' column\n",
    "# df = pd.get_dummies(df, columns=['advertiser_name'], drop_first=True)\n",
    "# Check for leading/trailing spaces in column names\n",
    "df.columns = df.columns.str.strip()  # This removes any extra spaces\n",
    "print(df.columns)\n",
    "\n",
    "# Verify the encoding result\n",
    "print(df.head())\n"
   ]
  },
  {
   "cell_type": "code",
   "execution_count": 21,
   "metadata": {},
   "outputs": [],
   "source": [
    "# One-hot encoding for categorical columns like 'network_id', 'advertiser_name', etc.\n",
    "df = pd.get_dummies(df, columns=['network_id', 'advertiser_name', 'campaign_item_id'], drop_first=True)\n"
   ]
  },
  {
   "cell_type": "markdown",
   "metadata": {},
   "source": [
    "Week 2 : Day 2 -> Scale/Normalize numerical features and generate interaction terms"
   ]
  },
  {
   "cell_type": "code",
   "execution_count": 22,
   "metadata": {},
   "outputs": [],
   "source": [
    "from sklearn.preprocessing import StandardScaler\n",
    "\n",
    "# Standardize features\n",
    "scaler = StandardScaler()\n",
    "df[['campaign_budget_usd', 'impressions', 'clicks']] = scaler.fit_transform(df[['campaign_budget_usd', 'impressions', 'clicks']])\n"
   ]
  },
  {
   "cell_type": "markdown",
   "metadata": {},
   "source": [
    "Week 2 : Day 3 -> Split Data into training and testing sets"
   ]
  },
  {
   "cell_type": "code",
   "execution_count": null,
   "metadata": {},
   "outputs": [],
   "source": [
    "from sklearn.model_selection import train_test_split\n",
    "\n",
    "# Step 1: Separate features (X) and target (y)\n",
    "X = df.drop(columns=['CTR'])  # Assuming 'CTR' is the target column\n",
    "y = df['CTR']  # Target column (CTR)\n",
    "\n",
    "# Step 2: Split the data into training and testing sets\n",
    "X_train, X_test, y_train, y_test = train_test_split(X, y, test_size=0.2, random_state=42)\n",
    "\n",
    "# Display the size of the training and testing sets\n",
    "print(f\"Training set size: {X_train.shape[0]} rows\")\n",
    "print(f\"Testing set size: {X_test.shape[0]} rows\")\n"
   ]
  },
  {
   "cell_type": "code",
   "execution_count": null,
   "metadata": {},
   "outputs": [],
   "source": [
    "print(X_train.dtypes)\n",
    "# df.columns = df.columns.str.strip()\n",
    "# print(df['time'].dtype)  # Should output 'datetime64[ns]'\n",
    "# # If time is already in datetime64 format, we can directly extract features\n",
    "# df['year'] = df['time'].dt.year\n",
    "# df['month'] = df['time'].dt.month\n",
    "# df['day'] = df['time'].dt.day\n",
    "# df = df.drop(columns=['time'])\n",
    "# print(df[['time']].head())"
   ]
  },
  {
   "cell_type": "code",
   "execution_count": 25,
   "metadata": {},
   "outputs": [],
   "source": [
    "df['year'] = df['time'].dt.year\n",
    "df['month'] = df['time'].dt.month\n",
    "df['day'] = df['time'].dt.day"
   ]
  },
  {
   "cell_type": "code",
   "execution_count": null,
   "metadata": {},
   "outputs": [],
   "source": [
    "if 'time' in X_train.columns:\n",
    "    X_train = X_train.drop(columns=['time'])\n",
    "\n",
    "# Verify that 'time' is dropped\n",
    "print(X_train.dtypes)  # Check that 'time' is no longer present"
   ]
  },
  {
   "cell_type": "code",
   "execution_count": null,
   "metadata": {},
   "outputs": [],
   "source": [
    "# Verify the split\n",
    "print(f\"X_train shape: {X_train.shape}\")\n",
    "print(f\"X_test shape: {X_test.shape}\")\n",
    "print(f\"y_train shape: {y_train.shape}\")\n",
    "print(f\"y_test shape: {y_test.shape}\")\n",
    "\n"
   ]
  },
  {
   "cell_type": "markdown",
   "metadata": {},
   "source": [
    "Week 2 : Day 4 -> Train a basic model and evaluate using MSE"
   ]
  },
  {
   "cell_type": "markdown",
   "metadata": {},
   "source": [
    "Model Training with Logistic Regression"
   ]
  },
  {
   "cell_type": "code",
   "execution_count": null,
   "metadata": {},
   "outputs": [],
   "source": [
    "# Check for any non-numeric columns that may have been missed\n",
    "categorical_columns = X_train.select_dtypes(include=['object']).columns\n",
    "print(\"Categorical columns in the training set:\")\n",
    "print(categorical_columns)\n",
    "\n",
    "# One-hot encoding all categorical columns in the dataset (if not done yet)\n",
    "X_train = pd.get_dummies(X_train, drop_first=True)\n",
    "X_test = pd.get_dummies(X_test, drop_first=True)\n",
    "\n",
    "# Check if any columns are missing in X_test after encoding\n",
    "missing_cols = set(X_train.columns) - set(X_test.columns)\n",
    "\n",
    "# Add missing columns to X_test with 0 values\n",
    "for col in missing_cols:\n",
    "    X_test[col] = 0\n",
    "\n",
    "# Ensure the columns match between training and test sets\n",
    "X_train, X_test = X_train.align(X_test, join='left', axis=1)\n",
    "\n"
   ]
  },
  {
   "cell_type": "code",
   "execution_count": null,
   "metadata": {},
   "outputs": [],
   "source": [
    "# Initialize the Linear Regression model\n",
    "from sklearn.linear_model import LinearRegression\n",
    "model = LinearRegression()\n",
    "\n",
    "# Train the model\n",
    "model.fit(X_train, y_train)\n",
    "\n",
    "# Make predictions\n",
    "y_pred = model.predict(X_test)\n",
    "\n",
    "# Evaluate the model using Mean Squared Error\n",
    "from sklearn.metrics import mean_squared_error\n",
    "mse = mean_squared_error(y_test, y_pred)\n",
    "print(f\"Mean Squared Error: {mse}\")\n"
   ]
  },
  {
   "cell_type": "markdown",
   "metadata": {},
   "source": [
    "Week 2 : Day 5 -> Mid Evaluation - Present the cleaned dataset, feature engineering, and initial model performance"
   ]
  },
  {
   "cell_type": "markdown",
   "metadata": {},
   "source": [
    "Week 3 : Day 1 -> Train Advanced models (EG: decision tree, random forest)"
   ]
  },
  {
   "cell_type": "code",
   "execution_count": null,
   "metadata": {},
   "outputs": [],
   "source": [
    "# Decision Tree Regressor\n",
    "from sklearn.tree import DecisionTreeRegressor\n",
    "from sklearn.metrics import mean_squared_error, r2_score\n",
    "# Initialize the DecisionTree Regressor\n",
    "dt_model = DecisionTreeRegressor(random_state=42)\n",
    "\n",
    "# Train the model\n",
    "dt_model.fit(X_train, y_train)\n",
    "\n",
    "# Make predictions\n",
    "y_pred_dt = dt_model.predict(X_test)\n",
    "\n",
    "# Evaluate the model using Mean Squared Error and R²\n",
    "mse_dt = mean_squared_error(y_test, y_pred_dt)\n",
    "r2_dt = r2_score(y_test, y_pred_dt)\n",
    "\n",
    "print(f\"Decision Tree Mean Squared Error: {mse_dt}\")\n",
    "print(f\"Decision Tree R² Score: {r2_dt}\")\n",
    "\n",
    "from sklearn.tree import plot_tree\n",
    "\n",
    "# # Plot the tree\n",
    "# plt.figure(figsize=(12, 8))\n",
    "# plot_tree(dt_model, filled=True, feature_names=X_train.columns, class_names=['CTR'])\n",
    "# plt.title('Decision Tree Visualization')\n",
    "# plt.show()\n",
    "\n"
   ]
  },
  {
   "cell_type": "code",
   "execution_count": null,
   "metadata": {},
   "outputs": [],
   "source": [
    "# Random Forest Regressor\n",
    "from sklearn.ensemble import RandomForestRegressor\n",
    "# Initialize the Random Forest Regressor\n",
    "rf_model = RandomForestRegressor(n_estimators=50,max_depth=10,n_jobs=-1,max_features='sqrt',random_state=42)\n",
    "\n",
    "# Train the model\n",
    "rf_model.fit(X_train, y_train)\n",
    "\n",
    "# Make predictions\n",
    "y_pred_rf = rf_model.predict(X_test)\n",
    "\n",
    "# Evaluate the model using Mean Squared Error and R²\n",
    "mse_rf = mean_squared_error(y_test, y_pred_rf)\n",
    "r2_rf = r2_score(y_test, y_pred_rf)\n",
    "\n",
    "print(f\"Random Forest Mean Squared Error: {mse_rf}\")\n",
    "print(f\"Random Forest R² Score: {r2_rf}\")\n",
    "# Get feature importance from Random Forest model\n",
    "importances_rf = rf_model.feature_importances_\n",
    "\n",
    "# Create a DataFrame to display the feature importances\n",
    "feature_importances = pd.DataFrame({'Feature': X_train.columns, 'Importance': importances_rf})\n",
    "\n",
    "# Sort the features by importance\n",
    "feature_importances = feature_importances.sort_values(by='Importance', ascending=False)\n",
    "\n",
    "# Display the top features\n",
    "print(feature_importances.head())\n",
    "# # Visualize the feature importance\n",
    "# plt.figure(figsize=(12, 8))\n",
    "# sns.barplot(x='Importance', y='Feature', data=feature_importances)\n",
    "# plt.title('Random Forest Feature Importance')\n",
    "# plt.show()\n"
   ]
  },
  {
   "cell_type": "markdown",
   "metadata": {},
   "source": [
    "Week 3 : Day 2 -> Introduce and train XGBoost or LightGBM models."
   ]
  },
  {
   "cell_type": "code",
   "execution_count": null,
   "metadata": {},
   "outputs": [],
   "source": [
    "print(pd.__version__)"
   ]
  },
  {
   "cell_type": "code",
   "execution_count": null,
   "metadata": {},
   "outputs": [],
   "source": [
    "import xgboost as xgb\n",
    "from sklearn.metrics import mean_squared_error, r2_score\n",
    "import pandas as pd  # Ensure pandas is imported if necessary (although not used for Int64Index here)\n",
    "\n",
    "# Create the DMatrix objects for XGBoost\n",
    "train_data = xgb.DMatrix(X_train, label=y_train, enable_categorical=True)\n",
    "test_data = xgb.DMatrix(X_test, label=y_test, enable_categorical=True)\n",
    "\n",
    "\n",
    "# Set parameters for XGBoost model\n",
    "params = {\n",
    "    'objective': 'reg:squarederror',  # Regression task (MSE loss)\n",
    "    'eval_metric': 'rmse',            # Root mean square error (RMSE) as eval metric\n",
    "    'max_depth': 6,                   # Max depth of each tree\n",
    "    'learning_rate': 0.1,             # Learning rate\n",
    "    'colsample_bytree': 0.8,          # Fraction of features to use\n",
    "    'subsample': 0.8                  # Fraction of samples to use\n",
    "}\n",
    "\n",
    "# List of evaluation data\n",
    "evals = [(train_data, 'train'), (test_data, 'eval')]\n",
    "\n",
    "# Train the model with early stopping\n",
    "bst = xgb.train(\n",
    "    params, \n",
    "    train_data,\n",
    "    num_boost_round=1000,          # Maximum boosting rounds\n",
    "    evals=evals,\n",
    "    early_stopping_rounds=10       # Stop early if no improvement for 10 rounds\n",
    ")\n",
    "\n",
    "# Make predictions\n",
    "y_pred_xgb = bst.predict(test_data)\n",
    "\n",
    "# Evaluate the model\n",
    "mse_xgb = mean_squared_error(y_test, y_pred_xgb)\n",
    "r2_xgb = r2_score(y_test, y_pred_xgb)\n",
    "\n",
    "# Print evaluation results\n",
    "print(f\"XGBoost Mean Squared Error: {mse_xgb}\")\n",
    "print(f\"XGBoost R² Score: {r2_xgb}\")\n"
   ]
  },
  {
   "cell_type": "code",
   "execution_count": null,
   "metadata": {},
   "outputs": [],
   "source": [
    "import lightgbm as lgb\n",
    "from sklearn.metrics import mean_squared_error, r2_score\n",
    "\n",
    "# Clean column names to remove special characters and spaces\n",
    "X_train.columns = X_train.columns.str.replace(r'[^a-zA-Z0-9]', '_', regex=True)\n",
    "X_test.columns = X_test.columns.str.replace(r'[^a-zA-Z0-9]', '_', regex=True)\n",
    "\n",
    "# Create LightGBM datasets\n",
    "train_data = lgb.Dataset(X_train, label=y_train)\n",
    "test_data = lgb.Dataset(X_test, label=y_test)\n",
    "\n",
    "# Set parameters for LightGBM model\n",
    "params = {\n",
    "    'objective': 'regression',    # For regression tasks\n",
    "    'metric': 'l2',               # Metric for evaluation (L2 loss = MSE)\n",
    "    'boosting_type': 'gbdt',      # Gradient Boosting Decision Tree\n",
    "    'num_leaves': 31,             # Number of leaves in one tree\n",
    "    'learning_rate': 0.1,         # Learning rate\n",
    "    'feature_fraction': 0.8,      # Fraction of features to use per tree\n",
    "    'bagging_fraction': 0.8,      # Fraction of samples to use per tree\n",
    "    'bagging_freq': 5,            # Frequency of bagging\n",
    "    'verbose': -1                 # Suppress output\n",
    "}\n",
    "\n",
    "# Train the model without early stopping and evals_result\n",
    "lgb_model = lgb.train(\n",
    "    params,                      # Model parameters\n",
    "    train_data,                  # Training data\n",
    "    num_boost_round=1000,        # Max number of boosting rounds\n",
    "    valid_sets=[test_data],      # Validation set for evaluation\n",
    "    valid_names=['test']         # Name for the validation dataset (optional)\n",
    ")\n",
    "\n",
    "# Check the best iteration from the training process\n",
    "print(f\"Best iteration: {lgb_model.best_iteration}\")\n",
    "\n",
    "# Predict using the best iteration found during training\n",
    "y_pred_lgb = lgb_model.predict(X_test, num_iteration=lgb_model.best_iteration)\n",
    "\n",
    "# Evaluate the model\n",
    "mse_lgb = mean_squared_error(y_test, y_pred_lgb)\n",
    "r2_lgb = r2_score(y_test, y_pred_lgb)\n",
    "\n",
    "# Print evaluation results\n",
    "print(f\"LightGBM Mean Squared Error: {mse_lgb}\")\n",
    "print(f\"LightGBM R² Score: {r2_lgb}\")\n"
   ]
  },
  {
   "cell_type": "markdown",
   "metadata": {},
   "source": [
    "Week 3 : Day 3 -> Evaluate all models using Log Loss and ROC-AUC"
   ]
  },
  {
   "cell_type": "code",
   "execution_count": null,
   "metadata": {},
   "outputs": [],
   "source": [
    "# Let's assume a threshold of 0.5 for CTR\n",
    "threshold = 0.5\n",
    "y_train_binary = (y_train > threshold).astype(int)\n",
    "y_test_binary = (y_test > threshold).astype(int)\n",
    "\n",
    "\n",
    "from sklearn.metrics import log_loss, roc_auc_score\n",
    "\n",
    "# Function to calculate Log Loss and ROC-AUC\n",
    "def evaluate_model(model, X_train, y_train, X_test, y_test):\n",
    "    # Get predicted probabilities\n",
    "    y_train_pred_proba = model.predict_proba(X_train)[:, 1]  # Probability of class 1\n",
    "    y_test_pred_proba = model.predict_proba(X_test)[:, 1]    # Probability of class 1\n",
    "    \n",
    "    # Calculate Log Loss\n",
    "    logloss_train = log_loss(y_train, y_train_pred_proba)\n",
    "    logloss_test = log_loss(y_test, y_test_pred_proba)\n",
    "    \n",
    "    # Calculate ROC-AUC\n",
    "    roc_auc_train = roc_auc_score(y_train, y_train_pred_proba)\n",
    "    roc_auc_test = roc_auc_score(y_test, y_test_pred_proba)\n",
    "    \n",
    "    return {\n",
    "        'Log Loss (Train)': logloss_train,\n",
    "        'Log Loss (Test)': logloss_test,\n",
    "        'ROC-AUC (Train)': roc_auc_train,\n",
    "        'ROC-AUC (Test)': roc_auc_test\n",
    "    }\n",
    "\n",
    "# Example for Logistic Regression\n",
    "from sklearn.linear_model import LogisticRegression\n",
    "\n",
    "# Train the Logistic Regression model\n",
    "logreg_model = LogisticRegression(max_iter=1000)\n",
    "logreg_model.fit(X_train, y_train_binary)\n",
    "\n",
    "# Evaluate the Logistic Regression model\n",
    "logreg_eval = evaluate_model(logreg_model, X_train, y_train_binary, X_test, y_test_binary)\n",
    "print(\"Logistic Regression Evaluation:\", logreg_eval)\n",
    "\n",
    "# Example for RandomForestClassifier\n",
    "from sklearn.ensemble import RandomForestClassifier\n",
    "\n",
    "# Train the Random Forest model\n",
    "rf_model = RandomForestClassifier()\n",
    "rf_model.fit(X_train, y_train_binary)\n",
    "\n",
    "# Evaluate the Random Forest model\n",
    "rf_eval = evaluate_model(rf_model, X_train, y_train_binary, X_test, y_test_binary)\n",
    "print(\"Random Forest Evaluation:\", rf_eval)\n",
    "\n",
    "# Example for XGBoost\n",
    "import xgboost as xgb\n",
    "\n",
    "# Train the XGBoost model\n",
    "xgb_model = xgb.XGBClassifier(eval_metric='logloss')\n",
    "xgb_model.fit(X_train, y_train_binary)\n",
    "\n",
    "# Evaluate the XGBoost model\n",
    "xgb_eval = evaluate_model(xgb_model, X_train, y_train_binary, X_test, y_test_binary)\n",
    "print(\"XGBoost Evaluation:\", xgb_eval)\n",
    "\n",
    "# Example for LightGBM\n",
    "import lightgbm as lgb\n",
    "\n",
    "# Train the LightGBM model\n",
    "lgb_model = lgb.LGBMClassifier(objective='binary', metric='binary_logloss')\n",
    "lgb_model.fit(X_train, y_train_binary)\n",
    "\n",
    "# Evaluate the LightGBM model\n",
    "lgb_eval = evaluate_model(lgb_model, X_train, y_train_binary, X_test, y_test_binary)\n",
    "print(\"LightGBM Evaluation:\", lgb_eval)\n"
   ]
  },
  {
   "cell_type": "markdown",
   "metadata": {},
   "source": [
    "Week 3: Day 4 -> Perform hyperparamter tuning for the best model"
   ]
  },
  {
   "cell_type": "code",
   "execution_count": null,
   "metadata": {},
   "outputs": [],
   "source": [
    "from sklearn.model_selection import GridSearchCV\n",
    "from xgboost import XGBClassifier\n",
    "import pkg_resources\n",
    "\n",
    "\n",
    "# Define the model\n",
    "model = XGBClassifier()\n",
    "\n",
    "# Hyperparameters to tune\n",
    "param_grid = {\n",
    "    'n_estimators': [100, 200],\n",
    "    'learning_rate': [0.1, 0.01],\n",
    "    'max_depth': [3, 5],\n",
    "}\n",
    "\n",
    "# Perform Grid Search with cross-validation\n",
    "grid_search = GridSearchCV(estimator=model, param_grid=param_grid, cv=3, scoring='accuracy')\n",
    "grid_search.fit(X_train, y_train)\n",
    "\n",
    "# Get the best parameters and the best score\n",
    "print(\"Best Parameters:\", grid_search.best_params_)\n",
    "print(\"Best Cross-Validation Score:\", grid_search.best_score_)\n",
    "\n",
    "\n",
    "from sklearn.model_selection import train_test_split\n",
    "from xgboost import XGBClassifier\n",
    "\n",
    "# Split data into training and testing sets (if not already done)\n",
    "X_train, X_test, y_train, y_test = train_test_split(X, y, test_size=0.2, random_state=42)\n",
    "\n",
    "# Initialize the model\n",
    "model = XGBClassifier()\n",
    "\n",
    "# Fit the model\n",
    "model.fit(X_train, y_train)\n",
    "\n",
    "# Predict and evaluate\n",
    "y_pred = model.predict(X_test)\n",
    "accuracy = (y_pred == y_test).mean()\n",
    "print(f\"Accuracy: {accuracy}\")\n"
   ]
  }
 ],
 "metadata": {
  "kernelspec": {
   "display_name": "myenv",
   "language": "python",
   "name": "python3"
  },
  "language_info": {
   "codemirror_mode": {
    "name": "ipython",
    "version": 3
   },
   "file_extension": ".py",
   "mimetype": "text/x-python",
   "name": "python",
   "nbconvert_exporter": "python",
   "pygments_lexer": "ipython3",
   "version": "3.13.1"
  }
 },
 "nbformat": 4,
 "nbformat_minor": 2
}
